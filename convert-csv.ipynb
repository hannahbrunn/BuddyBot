{
 "cells": [
  {
   "cell_type": "code",
   "execution_count": 5,
   "metadata": {},
   "outputs": [],
   "source": [
    "import pandas as pd\n",
    "\n",
    "# Load the CSV data\n",
    "data = pd.read_csv('20 questions buddybot - Questions and responses.csv', header=None)\n"
   ]
  },
  {
   "cell_type": "code",
   "execution_count": 6,
   "metadata": {},
   "outputs": [
    {
     "data": {
      "text/html": [
       "<div>\n",
       "<style scoped>\n",
       "    .dataframe tbody tr th:only-of-type {\n",
       "        vertical-align: middle;\n",
       "    }\n",
       "\n",
       "    .dataframe tbody tr th {\n",
       "        vertical-align: top;\n",
       "    }\n",
       "\n",
       "    .dataframe thead th {\n",
       "        text-align: right;\n",
       "    }\n",
       "</style>\n",
       "<table border=\"1\" class=\"dataframe\">\n",
       "  <thead>\n",
       "    <tr style=\"text-align: right;\">\n",
       "      <th></th>\n",
       "      <th>0</th>\n",
       "      <th>1</th>\n",
       "      <th>2</th>\n",
       "      <th>3</th>\n",
       "    </tr>\n",
       "  </thead>\n",
       "  <tbody>\n",
       "    <tr>\n",
       "      <th>0</th>\n",
       "      <td>NaN</td>\n",
       "      <td>NaN</td>\n",
       "      <td>Neutral</td>\n",
       "      <td>Empathetic</td>\n",
       "    </tr>\n",
       "    <tr>\n",
       "      <th>1</th>\n",
       "      <td>Hi, my name is BuddyBot. I will ask questions ...</td>\n",
       "      <td>Depends on the user</td>\n",
       "      <td>NaN</td>\n",
       "      <td>NaN</td>\n",
       "    </tr>\n",
       "    <tr>\n",
       "      <th>2</th>\n",
       "      <td>Nice to meet you {Username}. How was your day?</td>\n",
       "      <td>Great</td>\n",
       "      <td>Noted. You reported that your day was great. T...</td>\n",
       "      <td>That is wonderful! It’s always nice when thing...</td>\n",
       "    </tr>\n",
       "    <tr>\n",
       "      <th>3</th>\n",
       "      <td>NaN</td>\n",
       "      <td>Good</td>\n",
       "      <td>Noted. You reported that your day was good. Th...</td>\n",
       "      <td>That is wonderful! It’s always nice when thing...</td>\n",
       "    </tr>\n",
       "    <tr>\n",
       "      <th>4</th>\n",
       "      <td>NaN</td>\n",
       "      <td>Okay</td>\n",
       "      <td>Noted. You reported that your day was okay. Th...</td>\n",
       "      <td>An okay day is still progress. I hope that you...</td>\n",
       "    </tr>\n",
       "    <tr>\n",
       "      <th>...</th>\n",
       "      <td>...</td>\n",
       "      <td>...</td>\n",
       "      <td>...</td>\n",
       "      <td>...</td>\n",
       "    </tr>\n",
       "    <tr>\n",
       "      <th>74</th>\n",
       "      <td>What core values guide your decisions in life?</td>\n",
       "      <td>Integrity or Honesty</td>\n",
       "      <td>Logged. You are guided by integrity or honesty.</td>\n",
       "      <td>That is a great value to guide your decisions!</td>\n",
       "    </tr>\n",
       "    <tr>\n",
       "      <th>75</th>\n",
       "      <td>NaN</td>\n",
       "      <td>Compassion or Empathy</td>\n",
       "      <td>Logged. You are guided by compassion or empathy.</td>\n",
       "      <td>That is a great value to guide your decisions!</td>\n",
       "    </tr>\n",
       "    <tr>\n",
       "      <th>76</th>\n",
       "      <td>NaN</td>\n",
       "      <td>Ambition or Hard Work</td>\n",
       "      <td>Logged. You are guided by ambition or hard work.</td>\n",
       "      <td>That is a great value to guide your decisions!</td>\n",
       "    </tr>\n",
       "    <tr>\n",
       "      <th>77</th>\n",
       "      <td>NaN</td>\n",
       "      <td>Loyalty or Trust</td>\n",
       "      <td>Logged. You are guided by loyalty or trust.</td>\n",
       "      <td>That is a great value to guide your decisions!</td>\n",
       "    </tr>\n",
       "    <tr>\n",
       "      <th>78</th>\n",
       "      <td>NaN</td>\n",
       "      <td>Freedom or Independence</td>\n",
       "      <td>Logged. You are guided by freedom or independe...</td>\n",
       "      <td>That is a great value to guide your decisions!</td>\n",
       "    </tr>\n",
       "  </tbody>\n",
       "</table>\n",
       "<p>79 rows × 4 columns</p>\n",
       "</div>"
      ],
      "text/plain": [
       "                                                    0  \\\n",
       "0                                                 NaN   \n",
       "1   Hi, my name is BuddyBot. I will ask questions ...   \n",
       "2      Nice to meet you {Username}. How was your day?   \n",
       "3                                                 NaN   \n",
       "4                                                 NaN   \n",
       "..                                                ...   \n",
       "74     What core values guide your decisions in life?   \n",
       "75                                                NaN   \n",
       "76                                                NaN   \n",
       "77                                                NaN   \n",
       "78                                                NaN   \n",
       "\n",
       "                          1  \\\n",
       "0                       NaN   \n",
       "1       Depends on the user   \n",
       "2                     Great   \n",
       "3                      Good   \n",
       "4                      Okay   \n",
       "..                      ...   \n",
       "74     Integrity or Honesty   \n",
       "75    Compassion or Empathy   \n",
       "76    Ambition or Hard Work   \n",
       "77         Loyalty or Trust   \n",
       "78  Freedom or Independence   \n",
       "\n",
       "                                                    2  \\\n",
       "0                                             Neutral   \n",
       "1                                                 NaN   \n",
       "2   Noted. You reported that your day was great. T...   \n",
       "3   Noted. You reported that your day was good. Th...   \n",
       "4   Noted. You reported that your day was okay. Th...   \n",
       "..                                                ...   \n",
       "74    Logged. You are guided by integrity or honesty.   \n",
       "75   Logged. You are guided by compassion or empathy.   \n",
       "76   Logged. You are guided by ambition or hard work.   \n",
       "77        Logged. You are guided by loyalty or trust.   \n",
       "78  Logged. You are guided by freedom or independe...   \n",
       "\n",
       "                                                    3  \n",
       "0                                          Empathetic  \n",
       "1                                                 NaN  \n",
       "2   That is wonderful! It’s always nice when thing...  \n",
       "3   That is wonderful! It’s always nice when thing...  \n",
       "4   An okay day is still progress. I hope that you...  \n",
       "..                                                ...  \n",
       "74     That is a great value to guide your decisions!  \n",
       "75     That is a great value to guide your decisions!  \n",
       "76     That is a great value to guide your decisions!  \n",
       "77     That is a great value to guide your decisions!  \n",
       "78     That is a great value to guide your decisions!  \n",
       "\n",
       "[79 rows x 4 columns]"
      ]
     },
     "execution_count": 6,
     "metadata": {},
     "output_type": "execute_result"
    }
   ],
   "source": [
    "data"
   ]
  },
  {
   "cell_type": "code",
   "execution_count": 30,
   "metadata": {},
   "outputs": [],
   "source": [
    "#dropping the first and second row\n",
    "data = data.drop(index=[0,1])"
   ]
  },
  {
   "cell_type": "code",
   "execution_count": 31,
   "metadata": {},
   "outputs": [
    {
     "data": {
      "text/plain": [
       "2        Nice to meet you {Username}. How was your day?\n",
       "3                                                   NaN\n",
       "4                                                   NaN\n",
       "5                                                   NaN\n",
       "6     Do you have any activities that you do to enjo...\n",
       "                            ...                        \n",
       "74       What core values guide your decisions in life?\n",
       "75                                                  NaN\n",
       "76                                                  NaN\n",
       "77                                                  NaN\n",
       "78                                                  NaN\n",
       "Name: 0, Length: 77, dtype: object"
      ]
     },
     "execution_count": 31,
     "metadata": {},
     "output_type": "execute_result"
    }
   ],
   "source": [
    "data[0]"
   ]
  },
  {
   "cell_type": "code",
   "execution_count": 32,
   "metadata": {},
   "outputs": [],
   "source": [
    "questions = []\n",
    "questions = data[0]"
   ]
  },
  {
   "cell_type": "code",
   "execution_count": 27,
   "metadata": {},
   "outputs": [
    {
     "data": {
      "text/plain": [
       "0     Hi, my name is BuddyBot. I will ask questions ...\n",
       "1        Nice to meet you {Username}. How was your day?\n",
       "2     Do you have any activities that you do to enjo...\n",
       "3     {Username}, when planning a trip, are you more...\n",
       "4     {Username}, when you are stressed, how do you ...\n",
       "5     On your weekend do you prefer going out or sta...\n",
       "6     {Username}, are you more of a morning person o...\n",
       "7     What type of friend group do you prefer, do yo...\n",
       "8     When are you feeling down, how do you deal wit...\n",
       "9     How would you define yourself, {Username}? Are...\n",
       "10              Do you find opening up to someone hard?\n",
       "11        How do you keep in contact with your friends?\n",
       "12    {Username}, if you could change one thing abou...\n",
       "13                                Do you enjoy cooking?\n",
       "14    When you are at a cafe, do you prefer coffee o...\n",
       "15             {Username}, are you a cat or dog person?\n",
       "16    What type of environment, helps you stay focused?\n",
       "17           {Username}, what is your favourite season?\n",
       "18          Which do you prefer, the beach or the pool?\n",
       "19       What core values guide your decisions in life?\n",
       "Name: 0, dtype: object"
      ]
     },
     "execution_count": 27,
     "metadata": {},
     "output_type": "execute_result"
    }
   ],
   "source": [
    "questions = questions.dropna()\n",
    "questions = questions.reset_index(drop=True)\n",
    "questions"
   ]
  },
  {
   "cell_type": "markdown",
   "metadata": {},
   "source": [
    "need to change column names to option 1, response 1, etc.\n",
    "make a list of the options and responses?\n",
    "move the text into the columns"
   ]
  },
  {
   "cell_type": "code",
   "execution_count": 4,
   "metadata": {},
   "outputs": [],
   "source": [
    "\n",
    "# Save to new CSV files\n",
    "empathetic_df.to_csv('empathetic_responses.csv', index=False, header=False)\n",
    "neutral_df.to_csv('neutral_responses.csv', index=False, header=False)\n"
   ]
  },
  {
   "cell_type": "code",
   "execution_count": null,
   "metadata": {},
   "outputs": [],
   "source": []
  }
 ],
 "metadata": {
  "kernelspec": {
   "display_name": "Python 3",
   "language": "python",
   "name": "python3"
  },
  "language_info": {
   "codemirror_mode": {
    "name": "ipython",
    "version": 3
   },
   "file_extension": ".py",
   "mimetype": "text/x-python",
   "name": "python",
   "nbconvert_exporter": "python",
   "pygments_lexer": "ipython3",
   "version": "3.9.6"
  }
 },
 "nbformat": 4,
 "nbformat_minor": 2
}
